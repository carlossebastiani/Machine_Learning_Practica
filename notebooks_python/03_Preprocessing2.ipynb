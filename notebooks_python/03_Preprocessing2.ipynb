{
 "cells": [
  {
   "cell_type": "markdown",
   "id": "48689a75",
   "metadata": {},
   "source": [
    "####  __Autores__: \n",
    "####  - González Díaz, Guillermo\n",
    "  \n",
    "####  - Sebastiani, Carlos"
   ]
  },
  {
   "cell_type": "code",
   "execution_count": 8,
   "id": "0573ea2f",
   "metadata": {},
   "outputs": [],
   "source": [
    "# Librerias\n",
    "import pandas as pd\n",
    "from sklearn import preprocessing\n",
    "from imblearn.over_sampling import SMOTE\n",
    "from imblearn.under_sampling import RandomUnderSampler\n",
    "import warnings"
   ]
  },
  {
   "cell_type": "code",
   "execution_count": 9,
   "id": "47255ddc",
   "metadata": {},
   "outputs": [],
   "source": [
    "#Configuración de visualización de notebook\n",
    "warnings.filterwarnings(\"ignore\")\n",
    "pd.set_option('display.max_columns', None)\n",
    "pd.set_option('display.max_rows', 500)"
   ]
  },
  {
   "cell_type": "code",
   "execution_count": 10,
   "id": "bb93d962",
   "metadata": {},
   "outputs": [],
   "source": [
    "X_train = pd.read_parquet('../data/Preprocessing/X_train')\n",
    "X_test = pd.read_parquet('../data/Preprocessing/X_test')\n",
    "y_train=pd.read_csv('../data/Preprocessing/y_train')\n",
    "y_test=pd.read_csv('../data/Preprocessing/y_test')\n",
    "y_train=y_train.set_index('Unnamed: 0')\n",
    "y_test=y_test.set_index('Unnamed: 0')"
   ]
  },
  {
   "cell_type": "markdown",
   "id": "c5abe4de",
   "metadata": {},
   "source": [
    "Para hacer el undersampling de las categorías se ha pensado en seleccionar distintos tipos de undersamplers. \n",
    "Sin embargo, debido a la complejidad del problema y del dataset, hay algunos ganadores. \n",
    "\n",
    "Los que se han pensado en usar son:\n",
    "- RandomUnderSampler: A pesar de que este método parece ser rápido, no toma en cuenta ningún tipo de información que quizápodría ser de importancia con respecto a nuestros datos. Simplemente quita de forma random, pudiendo dejar información redundante y posiblemente quitando información importante\n",
    "- TomekLinks: Este undersampler quitando los link de Tomek: en el que se encuentran dos puntos de data con la menor distancia euclidea. Cuando usamos este método no esperamos que el dataset quede en verdad balancado, solo que sea menos ambiguo entre las dos clases\n",
    "- Near Miss Undersampling: Seleccionan las variables en base a la distancia que hay entre unas y otras y hay varios tipos. \n",
    "\n",
    "Para el oversampling utilizaremos: \n",
    "- SMOTE: por sus ciglas en inglés SMOTE es Synthetic Minority Oversampling Technique. Funciona tomando ejemplos de la data que hay en nuestro target minoritario y produciendo data que es muy parecida pero no igual. \n",
    "   \n",
    "        \n",
    "        "
   ]
  },
  {
   "cell_type": "markdown",
   "id": "afea3ac8",
   "metadata": {},
   "source": [
    "https://machinelearningmastery.com/undersampling-algorithms-for-imbalanced-classification/\n",
    "\n",
    "https://machinelearningmastery.com/smote-oversampling-for-imbalanced-classification/"
   ]
  },
  {
   "cell_type": "markdown",
   "id": "a5e068fa",
   "metadata": {},
   "source": [
    "### Estrategia de remuestreo"
   ]
  },
  {
   "cell_type": "markdown",
   "id": "c2c4f9b2",
   "metadata": {},
   "source": [
    "Como estrategia para cambiar los pesos de nuestra variable target, utilizaremos primero un oversampling en el que crearemos suficientes variables para que la categoría minoritaria del target (es decir, los 1s o \"muertos\") lleguen a ser al menos un 20% del total de los datos. \n",
    "\n",
    "Luego haremos un undersampling utilizando el random undersampler para que nos quite suficientes datos de la categoría majoritaria hasta dejar una proporción de que nuestra variable. A este punto tenemos que expresar que no hemos querido utilizar el random undersampler pero era la única herramientas de oversampling que se logró procesar debido al bajo poder de computo"
   ]
  },
  {
   "cell_type": "code",
   "execution_count": 11,
   "id": "59a12ed1",
   "metadata": {},
   "outputs": [],
   "source": [
    "#Cargamos con la estrategia preseleccionada\n",
    "over = SMOTE(sampling_strategy=0.20)\n",
    "under = RandomUnderSampler(sampling_strategy=0.30)"
   ]
  },
  {
   "cell_type": "code",
   "execution_count": 12,
   "id": "796ea6b1",
   "metadata": {},
   "outputs": [],
   "source": [
    "#Cambiamos nuestro Tain y test haciendo el oversampling\n",
    "X_train,y_train=over.fit_resample(X_train, y_train)"
   ]
  },
  {
   "cell_type": "code",
   "execution_count": 13,
   "id": "d152828c",
   "metadata": {
    "scrolled": true
   },
   "outputs": [],
   "source": [
    "#Una vez cambiamos haremos el undersampling\n",
    "X_train,y_train=under.fit_resample(X_train, y_train)"
   ]
  },
  {
   "cell_type": "code",
   "execution_count": 14,
   "id": "d1c58389",
   "metadata": {},
   "outputs": [],
   "source": [
    "#Guardamos los datos como parquet\n",
    "#X_train.to_parquet('../data/Preprocessing/X_trainSampled2')\n",
    "#y_train.to_parquet('../data/Preprocessing/y_trainSampled2')"
   ]
  }
 ],
 "metadata": {
  "hide_input": false,
  "kernelspec": {
   "display_name": "Python 3 (ipykernel)",
   "language": "python",
   "name": "python3"
  },
  "language_info": {
   "codemirror_mode": {
    "name": "ipython",
    "version": 3
   },
   "file_extension": ".py",
   "mimetype": "text/x-python",
   "name": "python",
   "nbconvert_exporter": "python",
   "pygments_lexer": "ipython3",
   "version": "3.9.7"
  }
 },
 "nbformat": 4,
 "nbformat_minor": 5
}
