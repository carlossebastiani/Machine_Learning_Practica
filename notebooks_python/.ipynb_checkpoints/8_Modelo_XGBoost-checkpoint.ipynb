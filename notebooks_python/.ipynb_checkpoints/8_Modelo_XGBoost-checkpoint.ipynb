{
 "cells": [
  {
   "cell_type": "markdown",
   "id": "c67f2205",
   "metadata": {},
   "source": [
    "### XGBOOST:"
   ]
  },
  {
   "cell_type": "markdown",
   "id": "383a9596",
   "metadata": {},
   "source": [
    "Vemos que el modelo se comporta bien, especialmente después de haber ajustado el threshold. No obstante, Random Forest sigue siendo el ganador."
   ]
  },
  {
   "cell_type": "code",
   "execution_count": 1,
   "id": "3ef41498",
   "metadata": {},
   "outputs": [],
   "source": [
    "#importamos algunas librerías\n",
    "import pandas as pd\n",
    "import numpy as np\n",
    "from sklearn.ensemble import RandomForestClassifier\n",
    "from sklearn import metrics\n",
    "from sklearn.metrics import accuracy_score, plot_confusion_matrix, confusion_matrix, roc_curve, recall_score,precision_score\n",
    "import matplotlib.pyplot as plt\n",
    "import seaborn as sns\n",
    "import joblib\n",
    "from sklearn.model_selection import StratifiedKFold\n",
    "from sklearn.metrics import f1_score\n",
    "import xgboost as xgb\n",
    "from xgboost import XGBClassifier\n",
    "from matplotlib import pyplot\n",
    "import joblib"
   ]
  },
  {
   "cell_type": "code",
   "execution_count": 2,
   "id": "efd0c86a",
   "metadata": {},
   "outputs": [],
   "source": [
    "import warnings\n",
    "warnings.filterwarnings(\"ignore\")"
   ]
  },
  {
   "cell_type": "code",
   "execution_count": 3,
   "id": "94e7c71a",
   "metadata": {},
   "outputs": [],
   "source": [
    "# Función de métricas\n",
    "def print_metrics(y_test, y_pred):\n",
    "    print(\"------------------------------------------\")\n",
    "    print(\"The accuracy score is: \", round(accuracy_score(y_test, y_pred),3))\n",
    "    print(\"------------------------------------------\")\n",
    "    fpr, tpr, thresholds = metrics.roc_curve(y_test, y_pred)\n",
    "    print(\"The F1 score is: \",round(metrics.auc(fpr, tpr),3))\n",
    "    print(\"------------------------------------------\")\n",
    "    print(\"The recall is: \",round(recall_score(y_test,y_pred),3))\n",
    "    print(\"------------------------------------------\")\n",
    "    print(\"The precision score is: \",round(precision_score(y_test,y_pred),3))"
   ]
  },
  {
   "cell_type": "code",
   "execution_count": 4,
   "id": "04156328",
   "metadata": {},
   "outputs": [],
   "source": [
    "# Cargamos los data sets y los ponemos en el formato correcto\n",
    "X_train = pd.read_parquet('../PreprocessingSampled2/X_trainSampled2')\n",
    "X_test = pd.read_parquet('../PreprocessingSampled2/X_test')\n",
    "y_train = pd.read_parquet('../PreprocessingSampled2/y_trainSampled2')\n",
    "y_test = pd.read_csv('../PreprocessingSampled2/y_test').set_index('Unnamed: 0')"
   ]
  },
  {
   "cell_type": "code",
   "execution_count": 5,
   "id": "30103c63",
   "metadata": {},
   "outputs": [],
   "source": [
    "# Guardamos el modelo\n",
    "#filename = '../modelos/modeloxgb.sav'\n",
    "#joblib.dump(xg_clas, filename)"
   ]
  },
  {
   "cell_type": "code",
   "execution_count": 6,
   "id": "8219adbc",
   "metadata": {},
   "outputs": [],
   "source": [
    "# Cargamos el modelo\n",
    "filename = '../modelos/modeloxgb.sav'\n",
    "xg_clas = joblib.load(filename)"
   ]
  },
  {
   "cell_type": "markdown",
   "id": "9602c00b",
   "metadata": {},
   "source": [
    "Hemos porbado con el parámetro scale_pos_weigths = 0.3 para que nos de más importancia a fallar un 1 que a fallar un 0, y aparte de que el tiempo de ejecución ha sido casi el doble, los resultados han sido peores. "
   ]
  },
  {
   "cell_type": "code",
   "execution_count": 10,
   "id": "e7586a68",
   "metadata": {},
   "outputs": [
    {
     "data": {
      "text/plain": [
       "30.000006514136"
      ]
     },
     "execution_count": 10,
     "metadata": {},
     "output_type": "execute_result"
    }
   ],
   "source": [
    "# Tenemos un 30 % de muertes frente a no muertes\n",
    "(921074 / 3070246) * 100"
   ]
  },
  {
   "cell_type": "markdown",
   "id": "c1f5073c",
   "metadata": {},
   "source": [
    "### XGBoost"
   ]
  },
  {
   "cell_type": "markdown",
   "id": "3091229a",
   "metadata": {},
   "source": [
    "### __No correr la siguiente celda si el modelo ha cargado bien antes__"
   ]
  },
  {
   "cell_type": "code",
   "execution_count": 11,
   "id": "5f5ba1c3",
   "metadata": {},
   "outputs": [],
   "source": [
    "# Ajustamos el modelo a mano\n",
    "# 0.1 ha dado  0.114 normal y 0.770 y mil vueltas. 0.1 win rate\n",
    "xg_clas = xgb.XGBClassifier(objective ='reg:linear',\n",
    "                            colsample_bytree = 0.3,   \n",
    "                            learning_rate = 0.1,    \n",
    "                            max_depth = 10,         \n",
    "                            alpha = 10,             \n",
    "                            n_estimators = 500)      "
   ]
  },
  {
   "cell_type": "code",
   "execution_count": 12,
   "id": "e4d16e80",
   "metadata": {},
   "outputs": [
    {
     "name": "stdout",
     "output_type": "stream",
     "text": [
      "[19:42:44] WARNING: /Users/runner/miniforge3/conda-bld/xgboost-split_1637426408905/work/src/objective/regression_obj.cu:188: reg:linear is now deprecated in favor of reg:squarederror.\n",
      "CPU times: user 3h 38min 40s, sys: 13min 50s, total: 3h 52min 31s\n",
      "Wall time: 32min 45s\n"
     ]
    },
    {
     "data": {
      "text/plain": [
       "XGBClassifier(alpha=10, base_score=0.5, booster='gbtree', colsample_bylevel=1,\n",
       "              colsample_bynode=1, colsample_bytree=0.3,\n",
       "              enable_categorical=False, gamma=0, gpu_id=-1,\n",
       "              importance_type=None, interaction_constraints='',\n",
       "              learning_rate=0.1, max_delta_step=0, max_depth=10,\n",
       "              min_child_weight=1, missing=nan, monotone_constraints='()',\n",
       "              n_estimators=500, n_jobs=8, num_parallel_tree=1,\n",
       "              objective='reg:linear', predictor='auto', random_state=0,\n",
       "              reg_alpha=10, reg_lambda=1, scale_pos_weight=1, subsample=1,\n",
       "              tree_method='exact', validate_parameters=1, verbosity=None)"
      ]
     },
     "execution_count": 12,
     "metadata": {},
     "output_type": "execute_result"
    }
   ],
   "source": [
    "%%time\n",
    "xg_clas.fit(X_train, y_train)"
   ]
  },
  {
   "cell_type": "code",
   "execution_count": 7,
   "id": "87d01581",
   "metadata": {},
   "outputs": [],
   "source": [
    "y_pred = xg_clas.predict(X_test)"
   ]
  },
  {
   "cell_type": "code",
   "execution_count": 14,
   "id": "8b1d50bf",
   "metadata": {},
   "outputs": [
    {
     "data": {
      "text/plain": [
       "Text(42.0, 0.5, 'Realidad')"
      ]
     },
     "execution_count": 14,
     "metadata": {},
     "output_type": "execute_result"
    },
    {
     "data": {
      "image/png": "[encoded data removed]",
      "text/plain": [
       "<Figure size 504x504 with 2 Axes>"
      ]
     },
     "metadata": {
      "needs_background": "light"
     },
     "output_type": "display_data"
    },
    {
     "data": {
      "image/png": "[encoded data removed]",
      "text/plain": [
       "<Figure size 504x504 with 2 Axes>"
      ]
     },
     "metadata": {
      "needs_background": "light"
     },
     "output_type": "display_data"
    }
   ],
   "source": [
    "# Matriz de confusiones \n",
    "cm = confusion_matrix(y_test, y_pred)\n",
    "plt.figure(figsize=(7,7))\n",
    "sns.heatmap(cm, annot=True, fmt=\".3f\", linewidths=.5, square = True, cmap = 'Blues_r');\n",
    "plt.ylabel('Realidad');\n",
    "cm2=[[cm[0][0]/sum(cm[0]),cm[0][1]/sum(cm[0])],[cm[1][0]/sum(cm[1]),cm[1][1]/sum(cm[1])]]\n",
    "plt.figure(figsize=(7,7))\n",
    "sns.heatmap(cm2, annot=True, fmt=\".3f\", linewidths=.5, square = True, cmap = 'Blues_r');\n",
    "plt.ylabel('Realidad')"
   ]
  },
  {
   "cell_type": "markdown",
   "id": "e99802a1",
   "metadata": {},
   "source": [
    "### Ajustando el threshold. "
   ]
  },
  {
   "cell_type": "markdown",
   "id": "2de9bcaa",
   "metadata": {},
   "source": [
    "Comprobamos nuevamente que con este ajuste nuestro modelo mejora considerablemente, pero no alcanza los valores que hemos conseguido con el Random Forest."
   ]
  },
  {
   "cell_type": "code",
   "execution_count": 15,
   "id": "1ccebb88",
   "metadata": {},
   "outputs": [],
   "source": [
    "# Ajustamos el threshold\n",
    "y_pred_proba = xg_clas.predict_proba(X_test)"
   ]
  },
  {
   "cell_type": "code",
   "execution_count": 16,
   "id": "4c80d260",
   "metadata": {},
   "outputs": [
    {
     "name": "stdout",
     "output_type": "stream",
     "text": [
      "Best Threshold=0.080364, G-Mean=0.771\n"
     ]
    },
    {
     "data": {
      "image/png": "[encoded data removed]",
      "text/plain": [
       "<Figure size 432x288 with 1 Axes>"
      ]
     },
     "metadata": {
      "needs_background": "light"
     },
     "output_type": "display_data"
    }
   ],
   "source": [
    "# Mantenemos las porbabilidades\n",
    "yhat = y_pred_proba[ : , 1]\n",
    "\n",
    "# Curva roc \n",
    "fpr, tpr, thresholds = roc_curve(y_test, yhat)\n",
    "\n",
    "# Calcular gmeans\n",
    "gmeans = np.sqrt(tpr * (1-fpr))\n",
    "ix = np.argmax(gmeans)\n",
    "print('Best Threshold=%f, G-Mean=%.3f' % (thresholds[ix], gmeans[ix]))\n",
    "\n",
    "# Dibujamos la curva roc\n",
    "plt.plot([0,1], [0,1], linestyle='--', label='No Skill')\n",
    "plt.plot(fpr, tpr, marker='.', label='XGBOOST')\n",
    "plt.scatter(fpr[ix], tpr[ix], s=100, marker='o', color='black', label='Best')\n",
    "\n",
    "# Ajustes\n",
    "plt.xlabel('False Positive Rate')\n",
    "plt.ylabel('True Positive Rate')\n",
    "plt.legend()\n",
    "plt.show()"
   ]
  },
  {
   "cell_type": "code",
   "execution_count": 17,
   "id": "33f0d6e7",
   "metadata": {},
   "outputs": [],
   "source": [
    "y_pred_best = (y_pred_proba[:,1] >= thresholds[ix]).astype(int)"
   ]
  },
  {
   "cell_type": "code",
   "execution_count": 18,
   "id": "2410fd2d",
   "metadata": {},
   "outputs": [
    {
     "data": {
      "text/plain": [
       "Text(42.0, 0.5, 'Realidad')"
      ]
     },
     "execution_count": 18,
     "metadata": {},
     "output_type": "execute_result"
    },
    {
     "data": {
      "image/png": "[encoded data removed]",
      "text/plain": [
       "<Figure size 504x504 with 2 Axes>"
      ]
     },
     "metadata": {
      "needs_background": "light"
     },
     "output_type": "display_data"
    },
    {
     "data": {
      "image/png": "[encoded data removed]",
      "text/plain": [
       "<Figure size 504x504 with 2 Axes>"
      ]
     },
     "metadata": {
      "needs_background": "light"
     },
     "output_type": "display_data"
    }
   ],
   "source": [
    "cm = confusion_matrix(y_test, y_pred_best)\n",
    "\n",
    "plt.figure(figsize=(7,7))\n",
    "sns.heatmap(cm, annot=True, fmt=\".3f\", linewidths=.5, square = True, cmap = 'Blues_r');\n",
    "plt.ylabel('Realidad');\n",
    "\n",
    "cm2=[[cm[0][0]/sum(cm[0]),cm[0][1]/sum(cm[0])],[cm[1][0]/sum(cm[1]),cm[1][1]/sum(cm[1])]]\n",
    "plt.figure(figsize=(7,7))\n",
    "sns.heatmap(cm2, annot=True, fmt=\".3f\", linewidths=.5, square = True, cmap = 'Blues_r');\n",
    "plt.ylabel('Realidad')"
   ]
  },
  {
   "cell_type": "markdown",
   "id": "6fe3365a",
   "metadata": {},
   "source": [
    "Recordatorio F1 :\n",
    "The F1 score can be interpreted as a harmonic mean of the precision and recall, where an F1 score reaches its best value at 1 and worst score at 0. The relative contribution of precision and recall to the F1 score are equal."
   ]
  },
  {
   "cell_type": "code",
   "execution_count": 41,
   "id": "67060350",
   "metadata": {},
   "outputs": [
    {
     "data": {
      "text/plain": [
       "0.8776836958421221"
      ]
     },
     "execution_count": 41,
     "metadata": {},
     "output_type": "execute_result"
    }
   ],
   "source": [
    "f1_score(y_test, y_pred_best, average='weighted')"
   ]
  }
 ],
 "metadata": {
  "hide_input": false,
  "kernelspec": {
   "display_name": "Python 3 (ipykernel)",
   "language": "python",
   "name": "python3"
  },
  "language_info": {
   "codemirror_mode": {
    "name": "ipython",
    "version": 3
   },
   "file_extension": ".py",
   "mimetype": "text/x-python",
   "name": "python",
   "nbconvert_exporter": "python",
   "pygments_lexer": "ipython3",
   "version": "3.8.0"
  }
 },
 "nbformat": 4,
 "nbformat_minor": 5
}
