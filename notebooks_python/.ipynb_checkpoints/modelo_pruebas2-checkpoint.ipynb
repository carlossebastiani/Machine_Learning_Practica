{
 "cells": [
  {
   "cell_type": "markdown",
   "id": "d54e3991",
   "metadata": {},
   "source": [
    "### Decision Tree"
   ]
  },
  {
   "cell_type": "code",
   "execution_count": 12,
   "id": "319c1ba9",
   "metadata": {},
   "outputs": [],
   "source": [
    "# importamos algunas librerías\n",
    "import pandas as pd\n",
    "import numpy as np\n",
    "from sklearn import tree\n",
    "from sklearn import metrics\n",
    "from sklearn.metrics import accuracy_score, confusion_matrix, roc_curve, recall_score,precision_score\n",
    "import matplotlib.pyplot as plt\n",
    "import seaborn as sns\n",
    "import joblib"
   ]
  },
  {
   "cell_type": "code",
   "execution_count": 15,
   "id": "9f6eed29",
   "metadata": {},
   "outputs": [],
   "source": [
    "# Create Functions for Metrics\n",
    "def print_metrics(y_test, y_pred):\n",
    "    print(\"------------------------------------------\")\n",
    "    print(\"The accuracy score is: \", round(accuracy_score(y_test, y_pred),3))\n",
    "    print(\"------------------------------------------\")\n",
    "    fpr, tpr, thresholds = metrics.roc_curve(y_test, y_pred)\n",
    "    print(\"The F1 score is: \",round(metrics.auc(fpr, tpr),3))\n",
    "    print(\"------------------------------------------\")\n",
    "    print(\"The recall is: \",round(recall_score(y_test,y_pred),3))\n",
    "    print(\"------------------------------------------\")\n",
    "    print(\"The precision score is: \",round(precision_score(y_test,y_pred),3))\n",
    "    \n",
    "def matriz_confusion(y_test, y_pred):\n",
    "    cm = confusion_matrix(y_test, y_pred)\n",
    "    plt.figure(figsize=(7,7))\n",
    "    sns.heatmap(cm, annot=True, fmt=\".3f\", linewidths=.5, square = True, cmap = 'Blues_r');\n",
    "    plt.ylabel('Realidad');\n",
    "    cm2=[[cm[0][0]/sum(cm[0]),cm[0][1]/sum(cm[0])],[cm[1][0]/sum(cm[1]),cm[1][1]/sum(cm[1])]]\n",
    "    plt.figure(figsize=(7,7))\n",
    "    sns.heatmap(cm2, annot=True, fmt=\".3f\", linewidths=.5, square = True, cmap = 'Blues_r');\n",
    "    plt.ylabel('Realidad')\n",
    "\n",
    "def curva_roc(y_test,y_pred_proba):\n",
    "# Mantenemos las probabilidades\n",
    "    yhat = y_pred_proba[:, 1]\n",
    "\n",
    "    # calculamos la curva de ROC\n",
    "    fpr, tpr, thresholds = roc_curve(y_test, yhat)\n",
    "\n",
    "    # gmeans\n",
    "    gmeans = np.sqrt(tpr * (1-fpr))\n",
    "    ix = np.argmax(gmeans)\n",
    "    print('Best Threshold=%f, G-Mean=%.3f' % (thresholds[ix], gmeans[ix]))\n",
    "\n",
    "    # ploteamos la curva roc\n",
    "    plt.plot([0,1], [0,1], linestyle='--', label='No Skill')\n",
    "    plt.plot(fpr, tpr, marker='.', label='Selected Model')\n",
    "    plt.scatter(fpr[ix], tpr[ix], s=100, marker='o', color='black', label='Best')\n",
    "\n",
    "    # axis labels\n",
    "    plt.xlabel('False Positive Rate')\n",
    "    plt.ylabel('True Positive Rate')\n",
    "    plt.legend()"
   ]
  },
  {
   "cell_type": "code",
   "execution_count": 5,
   "id": "c582de82",
   "metadata": {},
   "outputs": [],
   "source": [
    "# Cargamos los data sets y los ponemos en el formato correcto\n",
    "X_train = pd.read_parquet('../PreprocessingSampled2/X_trainSampled2')\n",
    "X_test = pd.read_parquet('../PreprocessingSampled2/X_test')\n",
    "y_train= pd.read_parquet('../PreprocessingSampled2/y_trainSampled2')\n",
    "y_test= pd.read_csv('../PreprocessingSampled2/y_test').set_index('Unnamed: 0')"
   ]
  },
  {
   "cell_type": "code",
   "execution_count": 6,
   "id": "342be95e",
   "metadata": {},
   "outputs": [],
   "source": [
    "# Cargamos nuestro modelo\n",
    "filename = '../models/DecisionTreeClassifier_model.sav'\n",
    "clf = joblib.load(filename)"
   ]
  },
  {
   "cell_type": "markdown",
   "id": "56cc0197",
   "metadata": {},
   "source": [
    "## __No correr la siguiente celda si el modelo se ha cargado correctamente__"
   ]
  },
  {
   "cell_type": "code",
   "execution_count": null,
   "id": "eb7c530a",
   "metadata": {},
   "outputs": [],
   "source": [
    "# Entrenamos nuestro modelo\n",
    "clf = tree.DecisionTreeClassifier()\n",
    "clf = clf.fit(X_train, y_train)"
   ]
  },
  {
   "cell_type": "code",
   "execution_count": 7,
   "id": "dbc6a52c",
   "metadata": {},
   "outputs": [],
   "source": [
    "y_pred= clf.predict(X_test)"
   ]
  },
  {
   "cell_type": "code",
   "execution_count": 8,
   "id": "94e9f49f",
   "metadata": {},
   "outputs": [],
   "source": [
    "y_pred_proba= clf.predict_proba(X_test)"
   ]
  },
  {
   "cell_type": "code",
   "execution_count": null,
   "id": "5d31138a",
   "metadata": {},
   "outputs": [],
   "source": [
    "#Guardamos el modelo\n",
    "filename = '../modelos/decision.sav'\n",
    "joblib.dump(clf, filename)"
   ]
  },
  {
   "cell_type": "markdown",
   "id": "7d53a753",
   "metadata": {},
   "source": [
    "## Métricas"
   ]
  },
  {
   "cell_type": "code",
   "execution_count": 9,
   "id": "8a1a0d47",
   "metadata": {},
   "outputs": [
    {
     "name": "stdout",
     "output_type": "stream",
     "text": [
      "------------------------------------------\n",
      "The accuracy score is:  0.954\n",
      "------------------------------------------\n",
      "The F1 score is:  0.635\n",
      "------------------------------------------\n",
      "The recall is:  0.304\n",
      "------------------------------------------\n",
      "The precision score is:  0.131\n"
     ]
    }
   ],
   "source": [
    "print_metrics(y_test,y_pred)"
   ]
  },
  {
   "cell_type": "code",
   "execution_count": 10,
   "id": "ee526725",
   "metadata": {},
   "outputs": [
    {
     "data": {
      "image/png": "[encoded data removed]",
      "text/plain": [
       "<Figure size 504x504 with 2 Axes>"
      ]
     },
     "metadata": {
      "needs_background": "light"
     },
     "output_type": "display_data"
    },
    {
     "data": {
      "image/png": "[encoded data removed]",
      "text/plain": [
       "<Figure size 504x504 with 2 Axes>"
      ]
     },
     "metadata": {
      "needs_background": "light"
     },
     "output_type": "display_data"
    }
   ],
   "source": [
    "matriz_confusion(y_test, y_pred)"
   ]
  },
  {
   "cell_type": "code",
   "execution_count": 16,
   "id": "3687e782",
   "metadata": {},
   "outputs": [
    {
     "name": "stdout",
     "output_type": "stream",
     "text": [
      "Best Threshold=1.000000, G-Mean=0.542\n"
     ]
    },
    {
     "data": {
      "image/png": "[encoded data removed]",
      "text/plain": [
       "<Figure size 432x288 with 1 Axes>"
      ]
     },
     "metadata": {
      "needs_background": "light"
     },
     "output_type": "display_data"
    }
   ],
   "source": [
    "curva_roc(y_test,y_pred_proba)"
   ]
  },
  {
   "cell_type": "code",
   "execution_count": null,
   "id": "5a9804f4",
   "metadata": {},
   "outputs": [],
   "source": []
  },
  {
   "cell_type": "code",
   "execution_count": null,
   "id": "2bf5e8aa",
   "metadata": {},
   "outputs": [],
   "source": []
  }
 ],
 "metadata": {
  "hide_input": false,
  "kernelspec": {
   "display_name": "Python 3 (ipykernel)",
   "language": "python",
   "name": "python3"
  },
  "language_info": {
   "codemirror_mode": {
    "name": "ipython",
    "version": 3
   },
   "file_extension": ".py",
   "mimetype": "text/x-python",
   "name": "python",
   "nbconvert_exporter": "python",
   "pygments_lexer": "ipython3",
   "version": "3.9.7"
  }
 },
 "nbformat": 4,
 "nbformat_minor": 5
}
