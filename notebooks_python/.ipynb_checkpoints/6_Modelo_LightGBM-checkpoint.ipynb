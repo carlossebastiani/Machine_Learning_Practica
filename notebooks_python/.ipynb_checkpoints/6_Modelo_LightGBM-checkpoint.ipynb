{
 "cells": [
  {
   "cell_type": "markdown",
   "metadata": {},
   "source": [
    "### LightGBM"
   ]
  },
  {
   "cell_type": "code",
   "execution_count": 5,
   "metadata": {},
   "outputs": [],
   "source": [
    "# Importamos algunas librerías\n",
    "import pandas as pd\n",
    "import numpy as np\n",
    "from lightgbm import LGBMClassifier\n",
    "from sklearn import metrics\n",
    "from sklearn.metrics import accuracy_score, plot_confusion_matrix, confusion_matrix, roc_curve, recall_score,precision_score\n",
    "import matplotlib.pyplot as plt\n",
    "import seaborn as sns\n",
    "import joblib"
   ]
  },
  {
   "cell_type": "code",
   "execution_count": 6,
   "metadata": {},
   "outputs": [],
   "source": [
    "import warnings\n",
    "warnings.filterwarnings(\"ignore\")"
   ]
  },
  {
   "cell_type": "code",
   "execution_count": 7,
   "metadata": {},
   "outputs": [],
   "source": [
    "# Función métricas\n",
    "def print_metrics(y_test, y_pred):\n",
    "    print(\"------------------------------------------\")\n",
    "    print(\"The accuracy score is: \", round(accuracy_score(y_test, y_pred),3))\n",
    "    print(\"------------------------------------------\")\n",
    "    fpr, tpr, thresholds = metrics.roc_curve(y_test, y_pred)\n",
    "    print(\"The F1 score is: \",round(metrics.auc(fpr, tpr),3))\n",
    "    print(\"------------------------------------------\")\n",
    "    print(\"The recall is: \",round(recall_score(y_test,y_pred),3))\n",
    "    print(\"------------------------------------------\")\n",
    "    print(\"The precision score is: \",round(precision_score(y_test,y_pred),3))"
   ]
  },
  {
   "cell_type": "code",
   "execution_count": 8,
   "metadata": {},
   "outputs": [],
   "source": [
    "# Cargamos los data sets y los ponemos en el formato correcto\n",
    "X_train = pd.read_parquet('../PreprocessingSampled2/X_trainSampled2')\n",
    "X_test = pd.read_parquet('../PreprocessingSampled2/X_test')\n",
    "y_train=pd.read_parquet('../PreprocessingSampled2/y_trainSampled2')\n",
    "y_test=pd.read_csv('../PreprocessingSampled2/y_test').set_index('Unnamed: 0')"
   ]
  },
  {
   "cell_type": "code",
   "execution_count": 10,
   "metadata": {},
   "outputs": [],
   "source": [
    "# Cargamos el modelo\n",
    "filename = '../modelos/modelolight.sav'\n",
    "lgm = joblib.load(filename)"
   ]
  },
  {
   "cell_type": "markdown",
   "metadata": {},
   "source": [
    "## __No correr la siguiente celda si el modelo se ha cargado correctamente__"
   ]
  },
  {
   "cell_type": "code",
   "execution_count": 4,
   "metadata": {},
   "outputs": [
    {
     "data": {
      "text/plain": [
       "LGBMClassifier()"
      ]
     },
     "execution_count": 4,
     "metadata": {},
     "output_type": "execute_result"
    }
   ],
   "source": [
    "# Modelo\n",
    "lgm = LGBMClassifier()\n",
    "lgm.fit(X_train, y_train)"
   ]
  },
  {
   "cell_type": "code",
   "execution_count": 14,
   "metadata": {},
   "outputs": [],
   "source": [
    "# Predicciones\n",
    "y_pred= lgm.predict(X_test)\n",
    "y_pred_proba= lgm.predict_proba(X_test)"
   ]
  },
  {
   "cell_type": "code",
   "execution_count": 31,
   "metadata": {},
   "outputs": [
    {
     "data": {
      "text/plain": [
       "['../modelos/modelolight.sav']"
      ]
     },
     "execution_count": 31,
     "metadata": {},
     "output_type": "execute_result"
    }
   ],
   "source": [
    "#Guardamos el modelo\n",
    "#filename = '../modelos/modelolight.sav'\n",
    "#joblib.dump(lgm, filename)"
   ]
  },
  {
   "cell_type": "code",
   "execution_count": 28,
   "metadata": {},
   "outputs": [
    {
     "name": "stdout",
     "output_type": "stream",
     "text": [
      "------------------------------------------\n",
      "The accuracy score is:  0.968\n",
      "------------------------------------------\n",
      "The F1 score is:  0.586\n",
      "------------------------------------------\n",
      "The recall is:  0.192\n",
      "------------------------------------------\n",
      "The precision score is:  0.146\n"
     ]
    }
   ],
   "source": [
    "print_metrics(y_test,y_pred)"
   ]
  },
  {
   "cell_type": "markdown",
   "metadata": {},
   "source": [
    "Miramos nuestra matriz de confusiones:"
   ]
  },
  {
   "cell_type": "code",
   "execution_count": 11,
   "metadata": {},
   "outputs": [
    {
     "data": {
      "text/plain": [
       "Text(42.0, 0.5, 'Realidad')"
      ]
     },
     "execution_count": 11,
     "metadata": {},
     "output_type": "execute_result"
    },
    {
     "data": {
      "image/png": "[encoded data removed]",
      "text/plain": [
       "<Figure size 504x504 with 2 Axes>"
      ]
     },
     "metadata": {
      "needs_background": "light"
     },
     "output_type": "display_data"
    },
    {
     "data": {
      "image/png": "[encoded data removed]",
      "text/plain": [
       "<Figure size 504x504 with 2 Axes>"
      ]
     },
     "metadata": {
      "needs_background": "light"
     },
     "output_type": "display_data"
    }
   ],
   "source": [
    "cm = confusion_matrix(y_test, y_pred)\n",
    "# Dibujamos\n",
    "plt.figure(figsize=(7,7))\n",
    "sns.heatmap(cm, annot=True, fmt=\".3f\", linewidths=.5, square = True, cmap = 'Blues_r');\n",
    "plt.ylabel('Realidad');\n",
    "cm2=[[cm[0][0]/sum(cm[0]),cm[0][1]/sum(cm[0])],[cm[1][0]/sum(cm[1]),cm[1][1]/sum(cm[1])]]\n",
    "plt.figure(figsize=(7,7))\n",
    "sns.heatmap(cm2, annot=True, fmt=\".3f\", linewidths=.5, square = True, cmap = 'Blues_r');\n",
    "plt.ylabel('Realidad')"
   ]
  },
  {
   "cell_type": "markdown",
   "metadata": {},
   "source": [
    "### Ajustando el threshold. "
   ]
  },
  {
   "cell_type": "markdown",
   "metadata": {},
   "source": [
    "Nos quedamos con los valores que están por encima de ese threshold como positivos para nuestro modelo. Vemos que así, nuestro modelo mejora considerablemente. Vemos que los indicadores de precisión, recall y f1 han mejorado igualmente."
   ]
  },
  {
   "cell_type": "code",
   "execution_count": 15,
   "metadata": {},
   "outputs": [
    {
     "name": "stdout",
     "output_type": "stream",
     "text": [
      "Best Threshold=0.095194, G-Mean=0.737\n"
     ]
    },
    {
     "data": {
      "image/png": "[encoded data removed]",
      "text/plain": [
       "<Figure size 432x288 with 1 Axes>"
      ]
     },
     "metadata": {
      "needs_background": "light"
     },
     "output_type": "display_data"
    }
   ],
   "source": [
    "# Mantenemos probabilidades\n",
    "yhat = y_pred_proba[:, 1]\n",
    "# Curva roc\n",
    "fpr, tpr, thresholds = roc_curve(y_test, yhat)\n",
    "# gmeans\n",
    "gmeans = np.sqrt(tpr * (1-fpr))\n",
    "ix = np.argmax(gmeans)\n",
    "print('Best Threshold=%f, G-Mean=%.3f' % (thresholds[ix], gmeans[ix]))\n",
    "\n",
    "# Dibujamos:\n",
    "plt.plot([0,1], [0,1], linestyle='--', label='No Skill')\n",
    "plt.plot(fpr, tpr, marker='.', label='LightGBM')\n",
    "plt.scatter(fpr[ix], tpr[ix], s=100, marker='o', color='black', label='Best')\n",
    "# axis\n",
    "plt.xlabel('False Positive Rate')\n",
    "plt.ylabel('True Positive Rate')\n",
    "plt.legend()\n",
    "plt.show()"
   ]
  },
  {
   "cell_type": "code",
   "execution_count": 18,
   "metadata": {},
   "outputs": [],
   "source": [
    "y_pred_best = (y_pred_proba[:,1] >= thresholds[ix]).astype(int)"
   ]
  },
  {
   "cell_type": "code",
   "execution_count": 20,
   "metadata": {},
   "outputs": [
    {
     "data": {
      "text/plain": [
       "Text(42.0, 0.5, 'Realidad')"
      ]
     },
     "execution_count": 20,
     "metadata": {},
     "output_type": "execute_result"
    },
    {
     "data": {
      "image/png": "[encoded data removed]",
      "text/plain": [
       "<Figure size 504x504 with 2 Axes>"
      ]
     },
     "metadata": {
      "needs_background": "light"
     },
     "output_type": "display_data"
    },
    {
     "data": {
      "image/png": "[encoded data removed]",
      "text/plain": [
       "<Figure size 504x504 with 2 Axes>"
      ]
     },
     "metadata": {
      "needs_background": "light"
     },
     "output_type": "display_data"
    }
   ],
   "source": [
    "cm = confusion_matrix(y_test, y_pred_best)\n",
    "plt.figure(figsize=(7,7))\n",
    "sns.heatmap(cm, annot=True, fmt=\".3f\", linewidths=.5, square = True, cmap = 'Blues_r');\n",
    "plt.ylabel('Realidad');\n",
    "cm2=[[cm[0][0]/sum(cm[0]),cm[0][1]/sum(cm[0])],[cm[1][0]/sum(cm[1]),cm[1][1]/sum(cm[1])]]\n",
    "plt.figure(figsize=(7,7))\n",
    "sns.heatmap(cm2, annot=True, fmt=\".3f\", linewidths=.5, square = True, cmap = 'Blues_r');\n",
    "plt.ylabel('Realidad')"
   ]
  },
  {
   "cell_type": "code",
   "execution_count": 26,
   "metadata": {},
   "outputs": [
    {
     "name": "stdout",
     "output_type": "stream",
     "text": [
      "------------------------------------------\n",
      "The accuracy score is:  0.734\n",
      "------------------------------------------\n",
      "The F1 score is:  0.737\n",
      "------------------------------------------\n",
      "The recall is:  0.74\n",
      "------------------------------------------\n",
      "The precision score is:  0.045\n"
     ]
    }
   ],
   "source": [
    "print_metrics(y_test,y_pred_best)"
   ]
  }
 ],
 "metadata": {
  "hide_input": false,
  "kernelspec": {
   "display_name": "Python 3 (ipykernel)",
   "language": "python",
   "name": "python3"
  },
  "language_info": {
   "codemirror_mode": {
    "name": "ipython",
    "version": 3
   },
   "file_extension": ".py",
   "mimetype": "text/x-python",
   "name": "python",
   "nbconvert_exporter": "python",
   "pygments_lexer": "ipython3",
   "version": "3.8.0"
  }
 },
 "nbformat": 4,
 "nbformat_minor": 2
}
